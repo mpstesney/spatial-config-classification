{
 "cells": [
  {
   "cell_type": "markdown",
   "metadata": {},
   "source": [
    "### clustering experiments\n",
    "\n",
    "t-SNE references:\n",
    "\n",
    "https://distill.pub/2016/misread-tsne/#:~:text=A%20second%20feature%20of%20t-SNE%20is%20a%20tuneable,has%20a%20complex%20effect%20on%20the%20resulting%20pictures\n",
    "\n",
    "https://medium.com/@ahsu2/visual-guide-to-understanding-t-sne-parameters-what-they-mean-6a8167d61689"
   ]
  },
  {
   "cell_type": "markdown",
   "metadata": {},
   "source": [
    "#### Load modules"
   ]
  },
  {
   "cell_type": "code",
   "execution_count": 78,
   "metadata": {},
   "outputs": [],
   "source": [
    "import numpy as np\n",
    "\n",
    "import matplotlib.pyplot as plt\n",
    "import matplotlib.cm as cm\n",
    "\n",
    "from sklearn.manifold import TSNE\n",
    "from sklearn.decomposition import PCA"
   ]
  },
  {
   "cell_type": "markdown",
   "metadata": {},
   "source": [
    "#### Load data"
   ]
  },
  {
   "cell_type": "code",
   "execution_count": 215,
   "metadata": {},
   "outputs": [],
   "source": [
    "# buildings\n",
    "# file_path_1 = os.path.join(os.path.dirname(os.getcwd()), 'data\\experiments\\201207 combined embeddings\\all_buildings_embeddings_random_exp_vec_only.csv')\n",
    "# file_path_2 = os.path.join(os.path.dirname(os.getcwd()), 'data\\experiments\\201207 combined embeddings2\\all_buildings_embeddings2_random_exp_vec_only.csv')\n",
    "\n",
    "# features only\n",
    "# file_path_2 = os.path.join(os.path.dirname(os.getcwd()), 'data\\experiments\\201207 combined embeddings\\all_buildings_embeddings_random_exp_features_only.csv')\n",
    "\n",
    "# file_path_1 = os.path.join(os.path.dirname(os.getcwd()), 'data\\experiments\\201207 embeddings\\buildings_embeddings_random_exp_vec_only.csv')\n",
    "# file_path_2 = os.path.join(os.path.dirname(os.getcwd()), 'data\\experiments\\201207 embeddings2\\buildings_embeddings2_random_exp_vec_only.csv')\n",
    "\n",
    "# file_path_1 = os.path.join(os.path.dirname(os.getcwd()), 'data\\experiments\\201208 ground embeddings\\all_buildings_ground_embeddings_random_exp_vec_only.csv')\n",
    "file_path_2 = os.path.join(os.path.dirname(os.getcwd()), 'data\\experiments\\201208 ground embeddings2\\all_buildings_ground_embeddings2_random_exp_vec_only.csv')\n",
    "\n",
    "# nodes \n",
    "# file_path_1 = os.path.join(os.path.dirname(os.getcwd()), 'data\\experiments\\201207 combined embeddings\\all_nodes_embeddings_random_exp_vec_only.csv')\n",
    "# file_path_2 = os.path.join(os.path.dirname(os.getcwd()), 'data\\experiments\\201207 combined embeddings2\\all_nodes_embeddings2_random_exp_vec_only.csv')\n",
    "\n",
    "# features only\n",
    "# file_path_2 = os.path.join(os.path.dirname(os.getcwd()), 'data\\experiments\\201207 combined embeddings\\all_nodes_embeddings_random_exp_features_only.csv')\n",
    "\n",
    "# file_path_1 = os.path.join(os.path.dirname(os.getcwd()), 'data\\experiments\\201207 embeddings\\nodes_embeddings_random_exp_vec_only.csv')\n",
    "# file_path_2 = os.path.join(os.path.dirname(os.getcwd()), 'data\\experiments\\201207 embeddings2\\nodes_embeddings2_random_exp_vec_only.csv')\n",
    "\n",
    "# file_path_1 = os.path.join(os.path.dirname(os.getcwd()), 'data\\experiments\\201208 ground embeddings\\all_nodes_ground_embeddings_random_exp_vec_only.csv')\n",
    "# file_path_2 = os.path.join(os.path.dirname(os.getcwd()), 'data\\experiments\\201208 ground embeddings2\\all_nodes_ground_embeddings2_random_exp_vec_only.csv')\n",
    "\n",
    "# data_1 = np.loadtxt(file_path_1, delimiter=',', usecols=(np.arange(0,64)), skiprows=1)\n",
    "# classes_1 = np.loadtxt(file_path_1, delimiter=',', usecols=64, skiprows=1, dtype='str')\n",
    "\n",
    "data_2 = np.loadtxt(file_path_2, delimiter=',', usecols=(np.arange(0,64)), skiprows=1)\n",
    "classes_2 = np.loadtxt(file_path_2, delimiter=',', usecols=64, skiprows=1, dtype='str')\n"
   ]
  },
  {
   "cell_type": "code",
   "execution_count": 216,
   "metadata": {},
   "outputs": [],
   "source": [
    "# t-SNE model\n",
    "tsne_model_en_2d = TSNE(perplexity=30, n_components=2, init='pca', n_iter=3500, random_state=30)\n",
    "\n",
    "# Get embeds for both sets of data\n",
    "# tsne_embeds_2d_1 = np.array(tsne_model_en_2d.fit_transform(data_1))\n",
    "tsne_embeds_2d_2 = np.array(tsne_model_en_2d.fit_transform(data_2))\n"
   ]
  },
  {
   "cell_type": "code",
   "execution_count": 217,
   "metadata": {},
   "outputs": [],
   "source": [
    "def tsne_plot_buildings(title, classes, embeddings, a, key=None, filename=None):\n",
    "    \n",
    "    plt.figure(figsize=(5, 5))\n",
    "    \n",
    "    colors = []\n",
    "    for c in classes:\n",
    "        if c == 'mosque':\n",
    "            colors.append('b')\n",
    "        else:\n",
    "            colors.append('r')\n",
    "\n",
    "    for embedding, color in zip(embeddings, colors):\n",
    "\n",
    "        x = embedding[0]\n",
    "        y = embedding[1]\n",
    "\n",
    "        plt.scatter(x, y, color=color, alpha=a, label=None)\n",
    "\n",
    "    plt.title(title)\n",
    "    \n",
    "    if filename:\n",
    "        plt.savefig(filename, format='png', dpi=300, bbox_inches='tight')\n",
    "    plt.show()\n"
   ]
  },
  {
   "cell_type": "code",
   "execution_count": 218,
   "metadata": {
    "scrolled": true
   },
   "outputs": [
    {
     "data": {
      "image/png": "[encoded data removed]",
      "text/plain": [
       "<Figure size 360x360 with 1 Axes>"
      ]
     },
     "metadata": {
      "needs_background": "light"
     },
     "output_type": "display_data"
    }
   ],
   "source": [
    "save_path =  os.path.join(os.path.dirname(os.getcwd()), 'data\\experiments')\n",
    "\n",
    "file_name = 'buildings_g_e_s2.png'\n",
    "title = 'buildings, g, embed only, s2'\n",
    "\n",
    "tsne_plot_buildings(title, classes_2, tsne_embeds_2d_2, 0.4, key=None, filename=save_path + file_name)"
   ]
  },
  {
   "cell_type": "markdown",
   "metadata": {},
   "source": [
    "### K-means clustering\n",
    "\n",
    "Not very useful"
   ]
  },
  {
   "cell_type": "code",
   "execution_count": 59,
   "metadata": {},
   "outputs": [
    {
     "data": {
      "text/plain": [
       "array([0, 0, 0, 0, 0, 0, 0, 0, 0, 1, 0, 0, 1, 0, 0, 0, 0, 0, 0, 0, 0, 0,\n",
       "       0, 0, 0, 0, 0, 0, 0, 0, 0, 0, 0, 0, 0, 0, 0, 0, 0, 0, 0, 0, 0, 0,\n",
       "       0, 0, 0, 0, 0, 0, 0, 0, 0, 0, 0, 0, 1, 0, 1, 0, 0, 0, 0, 0, 0, 0,\n",
       "       0, 0, 0, 0, 0, 0, 0, 0, 0, 0, 0, 0, 0, 0, 0, 0, 0, 0, 0, 0, 0, 0,\n",
       "       0, 0, 0, 0, 0, 0, 0, 0, 0, 0, 0, 0, 0, 0, 0, 0, 0, 0, 0, 0, 0, 0,\n",
       "       0, 0, 0, 0, 0, 0, 0, 0, 0, 0, 0, 1, 0, 0, 0, 0, 0, 0, 1, 0, 0, 0,\n",
       "       0, 1, 0, 0, 0, 0, 0, 0, 0, 0, 0, 0, 1, 0, 0, 0, 0, 0, 0, 0, 0, 0,\n",
       "       1, 0, 0, 0, 0, 0, 0, 1, 0, 0, 0, 0, 0, 0, 0, 0, 0, 0, 0, 0, 0, 0,\n",
       "       0, 0, 0, 0, 0, 1, 0, 0, 0, 1, 0, 0, 0, 0, 0, 0, 0, 0, 1, 0, 0, 0,\n",
       "       0, 0])"
      ]
     },
     "execution_count": 59,
     "metadata": {},
     "output_type": "execute_result"
    }
   ],
   "source": [
    "from sklearn.cluster import KMeans\n",
    "\n",
    "kmeans = KMeans(n_clusters=2, random_state=0).fit(data)\n",
    "kmeans.labels_\n"
   ]
  },
  {
   "cell_type": "code",
   "execution_count": null,
   "metadata": {},
   "outputs": [],
   "source": []
  }
 ],
 "metadata": {
  "kernelspec": {
   "display_name": "Python 3",
   "language": "python",
   "name": "python3"
  },
  "language_info": {
   "codemirror_mode": {
    "name": "ipython",
    "version": 3
   },
   "file_extension": ".py",
   "mimetype": "text/x-python",
   "name": "python",
   "nbconvert_exporter": "python",
   "pygments_lexer": "ipython3",
   "version": "3.7.7"
  }
 },
 "nbformat": 4,
 "nbformat_minor": 4
}
